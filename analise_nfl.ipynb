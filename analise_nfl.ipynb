{
 "cells": [
  {
   "cell_type": "code",
   "execution_count": 56,
   "id": "d7366032",
   "metadata": {},
   "outputs": [],
   "source": [
    "import pandas as pd\n",
    "import plotly.express as px\n",
    "import os\n",
    "from IPython.display import display, Markdown\n",
    "\n",
    "# Dicionários de Estatísticas\n",
    "offensive_stats = {\n",
    "    \"QB\": { \"Jardas Passadas\": \"season_passing_yards\", \"TDs Passados\": \"season_pass_touchdown\", \"Passer Rating\": \"passer_rating\", \"Interceptações Sofridas\": \"season_interception\" },\n",
    "    \"RB\": { \"Jardas Corridas\": \"season_rushing_yards\", \"TDs Corridos\": \"season_rush_touchdown\", \"Tentativas de Corrida\": \"season_rush_attempts\", \"Fumbles\": \"season_fumble\" },\n",
    "    \"WR\": { \"Jardas Recebidas\": \"season_receiving_yards\", \"TDs Recebidos\": \"season_receiving_touchdown\", \"Total de Recepções\": \"season_receptions\", \"Fumbles\": \"season_fumble\" },\n",
    "    \"TE\": { \"Jardas Recebidas\": \"season_receiving_yards\", \"TDs Recebidos\": \"season_receiving_touchdown\", \"Total de Recepções\": \"season_receptions\", \"Fumbles\": \"season_fumble\" }\n",
    "}\n",
    "defensive_stats = {\n",
    "    \"Interceptações\": \"interception\", \"Tackles Solo\": \"solo_tackle\", \"Tackles com Assistência\": \"tackle_with_assist\",\n",
    "    \"Sacks\": \"sack\", \"QB Hits\": \"qb_hit\", \"Fumbles Forçados\": \"fumble_forced\", \"Touchdowns Defensivos\": \"def_touchdown\"\n",
    "}"
   ]
  },
  {
   "cell_type": "code",
   "execution_count": 57,
   "id": "06fb917d",
   "metadata": {},
   "outputs": [
    {
     "name": "stdout",
     "output_type": "stream",
     "text": [
      "Dados carregados e agregados com sucesso!\n"
     ]
    },
    {
     "data": {
      "text/html": [
       "<div>\n",
       "<style scoped>\n",
       "    .dataframe tbody tr th:only-of-type {\n",
       "        vertical-align: middle;\n",
       "    }\n",
       "\n",
       "    .dataframe tbody tr th {\n",
       "        vertical-align: top;\n",
       "    }\n",
       "\n",
       "    .dataframe thead th {\n",
       "        text-align: right;\n",
       "    }\n",
       "</style>\n",
       "<table border=\"1\" class=\"dataframe\">\n",
       "  <thead>\n",
       "    <tr style=\"text-align: right;\">\n",
       "      <th></th>\n",
       "      <th>player_name</th>\n",
       "      <th>position</th>\n",
       "      <th>season</th>\n",
       "      <th>birth_year</th>\n",
       "      <th>draft_year</th>\n",
       "      <th>draft_round</th>\n",
       "      <th>draft_pick</th>\n",
       "      <th>draft_ovr</th>\n",
       "      <th>height</th>\n",
       "      <th>weight</th>\n",
       "      <th>...</th>\n",
       "      <th>delta_comp_pct</th>\n",
       "      <th>delta_int_pct</th>\n",
       "      <th>delta_pass_td_pct</th>\n",
       "      <th>delta_ypa</th>\n",
       "      <th>delta_yptarget</th>\n",
       "      <th>delta_ypr</th>\n",
       "      <th>delta_rush_td_pct</th>\n",
       "      <th>delta_ypc</th>\n",
       "      <th>delta_td_pct</th>\n",
       "      <th>delta_yptouch</th>\n",
       "    </tr>\n",
       "  </thead>\n",
       "  <tbody>\n",
       "    <tr>\n",
       "      <th>0</th>\n",
       "      <td>A.J. Barner</td>\n",
       "      <td>TE</td>\n",
       "      <td>2024</td>\n",
       "      <td>2002</td>\n",
       "      <td>2024.0</td>\n",
       "      <td>4.0</td>\n",
       "      <td>21.0</td>\n",
       "      <td>121.0</td>\n",
       "      <td>78.0</td>\n",
       "      <td>251.0</td>\n",
       "      <td>...</td>\n",
       "      <td>0.0</td>\n",
       "      <td>0.0</td>\n",
       "      <td>0.0</td>\n",
       "      <td>0.0</td>\n",
       "      <td>-0.172500</td>\n",
       "      <td>0.021250</td>\n",
       "      <td>0.0</td>\n",
       "      <td>0.000000</td>\n",
       "      <td>0.000000</td>\n",
       "      <td>0.021250</td>\n",
       "    </tr>\n",
       "    <tr>\n",
       "      <th>1</th>\n",
       "      <td>A.J. Brown</td>\n",
       "      <td>WR</td>\n",
       "      <td>2019</td>\n",
       "      <td>3994</td>\n",
       "      <td>4038.0</td>\n",
       "      <td>4.0</td>\n",
       "      <td>38.0</td>\n",
       "      <td>102.0</td>\n",
       "      <td>146.0</td>\n",
       "      <td>452.0</td>\n",
       "      <td>...</td>\n",
       "      <td>0.0</td>\n",
       "      <td>0.0</td>\n",
       "      <td>0.0</td>\n",
       "      <td>0.0</td>\n",
       "      <td>0.914599</td>\n",
       "      <td>0.635993</td>\n",
       "      <td>-1.0</td>\n",
       "      <td>1.222222</td>\n",
       "      <td>-1.000000</td>\n",
       "      <td>0.691526</td>\n",
       "    </tr>\n",
       "    <tr>\n",
       "      <th>2</th>\n",
       "      <td>A.J. Brown</td>\n",
       "      <td>WR</td>\n",
       "      <td>2020</td>\n",
       "      <td>1997</td>\n",
       "      <td>2019.0</td>\n",
       "      <td>2.0</td>\n",
       "      <td>19.0</td>\n",
       "      <td>51.0</td>\n",
       "      <td>73.0</td>\n",
       "      <td>226.0</td>\n",
       "      <td>...</td>\n",
       "      <td>0.0</td>\n",
       "      <td>0.0</td>\n",
       "      <td>0.0</td>\n",
       "      <td>0.0</td>\n",
       "      <td>0.900735</td>\n",
       "      <td>1.089796</td>\n",
       "      <td>0.0</td>\n",
       "      <td>0.000000</td>\n",
       "      <td>0.000000</td>\n",
       "      <td>1.151261</td>\n",
       "    </tr>\n",
       "    <tr>\n",
       "      <th>3</th>\n",
       "      <td>A.J. Brown</td>\n",
       "      <td>WR</td>\n",
       "      <td>2021</td>\n",
       "      <td>3994</td>\n",
       "      <td>4038.0</td>\n",
       "      <td>4.0</td>\n",
       "      <td>38.0</td>\n",
       "      <td>102.0</td>\n",
       "      <td>146.0</td>\n",
       "      <td>452.0</td>\n",
       "      <td>...</td>\n",
       "      <td>-1.0</td>\n",
       "      <td>1.0</td>\n",
       "      <td>-1.0</td>\n",
       "      <td>-1.0</td>\n",
       "      <td>0.473629</td>\n",
       "      <td>1.062804</td>\n",
       "      <td>-1.0</td>\n",
       "      <td>0.165501</td>\n",
       "      <td>1.451923</td>\n",
       "      <td>0.788432</td>\n",
       "    </tr>\n",
       "    <tr>\n",
       "      <th>4</th>\n",
       "      <td>A.J. Brown</td>\n",
       "      <td>WR</td>\n",
       "      <td>2022</td>\n",
       "      <td>3994</td>\n",
       "      <td>4038.0</td>\n",
       "      <td>4.0</td>\n",
       "      <td>38.0</td>\n",
       "      <td>102.0</td>\n",
       "      <td>146.0</td>\n",
       "      <td>452.0</td>\n",
       "      <td>...</td>\n",
       "      <td>0.0</td>\n",
       "      <td>0.0</td>\n",
       "      <td>0.0</td>\n",
       "      <td>0.0</td>\n",
       "      <td>0.377826</td>\n",
       "      <td>0.480239</td>\n",
       "      <td>0.0</td>\n",
       "      <td>0.000000</td>\n",
       "      <td>3.416667</td>\n",
       "      <td>0.516481</td>\n",
       "    </tr>\n",
       "  </tbody>\n",
       "</table>\n",
       "<p>5 rows × 654 columns</p>\n",
       "</div>"
      ],
      "text/plain": [
       "   player_name position  season  birth_year  draft_year  draft_round  \\\n",
       "0  A.J. Barner       TE    2024        2002      2024.0          4.0   \n",
       "1   A.J. Brown       WR    2019        3994      4038.0          4.0   \n",
       "2   A.J. Brown       WR    2020        1997      2019.0          2.0   \n",
       "3   A.J. Brown       WR    2021        3994      4038.0          4.0   \n",
       "4   A.J. Brown       WR    2022        3994      4038.0          4.0   \n",
       "\n",
       "   draft_pick  draft_ovr  height  weight  ...  delta_comp_pct  delta_int_pct  \\\n",
       "0        21.0      121.0    78.0   251.0  ...             0.0            0.0   \n",
       "1        38.0      102.0   146.0   452.0  ...             0.0            0.0   \n",
       "2        19.0       51.0    73.0   226.0  ...             0.0            0.0   \n",
       "3        38.0      102.0   146.0   452.0  ...            -1.0            1.0   \n",
       "4        38.0      102.0   146.0   452.0  ...             0.0            0.0   \n",
       "\n",
       "   delta_pass_td_pct  delta_ypa  delta_yptarget  delta_ypr  delta_rush_td_pct  \\\n",
       "0                0.0        0.0       -0.172500   0.021250                0.0   \n",
       "1                0.0        0.0        0.914599   0.635993               -1.0   \n",
       "2                0.0        0.0        0.900735   1.089796                0.0   \n",
       "3               -1.0       -1.0        0.473629   1.062804               -1.0   \n",
       "4                0.0        0.0        0.377826   0.480239                0.0   \n",
       "\n",
       "   delta_ypc  delta_td_pct  delta_yptouch  \n",
       "0   0.000000      0.000000       0.021250  \n",
       "1   1.222222     -1.000000       0.691526  \n",
       "2   0.000000      0.000000       1.151261  \n",
       "3   0.165501      1.451923       0.788432  \n",
       "4   0.000000      3.416667       0.516481  \n",
       "\n",
       "[5 rows x 654 columns]"
      ]
     },
     "metadata": {},
     "output_type": "display_data"
    }
   ],
   "source": [
    "def load_data():\n",
    "    \"\"\"Carrega os dataframes de ataque e defesa.\"\"\"\n",
    "    try:\n",
    "        data_path = \"data\" \n",
    "        offense_file = os.path.join(data_path, \"yearly_player_stats_offense.csv\")\n",
    "        defense_file = os.path.join(data_path, \"yearly_player_stats_defense.csv\")\n",
    "        \n",
    "        df_offense = pd.read_csv(offense_file)\n",
    "        df_defense = pd.read_csv(defense_file)\n",
    "        \n",
    "        df_offense['season'] = pd.to_numeric(df_offense['season'])\n",
    "        df_defense['season'] = pd.to_numeric(df_defense['season'])\n",
    "        \n",
    "        return df_offense, df_defense\n",
    "    except FileNotFoundError:\n",
    "        print(\"⚠️ Erro: Arquivos de dados não encontrados. Verifique se a pasta 'data' existe no mesmo diretório do notebook.\")\n",
    "        return pd.DataFrame(), pd.DataFrame()\n",
    "\n",
    "def aggregate_yearly_stats(df):\n",
    "    \"\"\"Agrega estatísticas por jogador e temporada.\"\"\"\n",
    "    if df.empty: return pd.DataFrame()\n",
    "    grouping_cols = ['player_name', 'position', 'season']\n",
    "    numeric_cols = df.select_dtypes(include='number').columns.drop('season', errors='ignore')\n",
    "    agg_dict = {col: 'sum' for col in numeric_cols}\n",
    "    df_agg = df.groupby(grouping_cols, as_index=False).agg(agg_dict)\n",
    "    return df_agg\n",
    "\n",
    "# Carrega e processa os dados\n",
    "df_offense_raw, df_defense_raw = load_data()\n",
    "df_offense_agg = aggregate_yearly_stats(df_offense_raw)\n",
    "df_defense_agg = aggregate_yearly_stats(df_defense_raw)\n",
    "\n",
    "print(\"Dados carregados e agregados com sucesso!\")\n",
    "display(df_offense_agg.head())"
   ]
  },
  {
   "cell_type": "code",
   "execution_count": 58,
   "id": "5801bbaf",
   "metadata": {},
   "outputs": [],
   "source": [
    "def plot_top_players_notebook(df, metric, title_metric, season, position=None):\n",
    "    \"\"\"Cria e exibe um gráfico de barras com os top 20 jogadores no notebook.\"\"\"\n",
    "    if df.empty:\n",
    "        print(\"Não há dados para exibir.\")\n",
    "        return\n",
    "\n",
    "    df_to_plot = df[df[\"position\"] == position] if position else df\n",
    "\n",
    "    # Filtra por temporada ou total de carreira\n",
    "    if season != \"2012-2024\":\n",
    "        df_filtered = df_to_plot[df_to_plot[\"season\"] == season]\n",
    "        top20 = df_filtered.nlargest(20, metric)\n",
    "        title_period = f\"na Temporada {season}\"\n",
    "    else:\n",
    "        career_totals = df_to_plot.groupby(['player_name', 'position'], as_index=False)[metric].sum()\n",
    "        top20 = career_totals.nlargest(20, metric)\n",
    "        title_period = \"(Total da Carreira, 2012-2024)\"\n",
    "\n",
    "    if top20.empty:\n",
    "        print(\"Não foram encontrados dados para os filtros selecionados.\")\n",
    "        return\n",
    "    \n",
    "    # Prepara dados para o gráfico\n",
    "    top20[\"display_name\"] = top20[\"player_name\"] + \" (\" + top20[\"position\"] + \")\"\n",
    "    top20 = top20.sort_values(by=metric, ascending=True)\n",
    "    \n",
    "    # Plota o gráfico\n",
    "    fig_title = f\"Top 20 Jogadores por {title_metric} {title_period}\"\n",
    "    fig = px.bar(\n",
    "        top20, y=\"display_name\", x=metric, text=metric, title=fig_title,\n",
    "        labels={\"display_name\": \"Jogador (Posição)\", metric: title_metric},\n",
    "        orientation='h', color=metric, color_continuous_scale=\"Blues\"\n",
    "    )\n",
    "    fig.update_traces(texttemplate=\"%{text:,.0f}\", textposition=\"inside\")\n",
    "    fig.update_layout(title_font_size=24, yaxis={'categoryorder':'total ascending'}, coloraxis_showscale=False, height=800)\n",
    "    fig.show()\n",
    "\n",
    "def plot_cumulative_evolution_notebook(df, metric, title_metric, position):\n",
    "    \"\"\"Plota a evolução de carreira acumulada dos top 10 jogadores no notebook.\"\"\"\n",
    "    df_pos = df[df['position'] == position].copy()\n",
    "    \n",
    "    # Encontra os top 10 jogadores da carreira\n",
    "    career_totals = df_pos.groupby('player_name')[metric].sum().nlargest(10).index\n",
    "    df_top10 = df_pos[df_pos['player_name'].isin(career_totals)]\n",
    "    \n",
    "    # Calcula a soma acumulada\n",
    "    df_top10 = df_top10.sort_values(['player_name', 'season'])\n",
    "    df_top10['cumulative_stat'] = df_top10.groupby('player_name')[metric].cumsum()\n",
    "\n",
    "    # Plota o gráfico\n",
    "    fig = px.line(\n",
    "        df_top10, x='season', y='cumulative_stat', color='player_name',\n",
    "        title=f\"Evolução Acumulada de Carreira - Top 10 {position}s por {title_metric}\",\n",
    "        labels={'season': 'Temporada', 'cumulative_stat': f'{title_metric} (Acumulado)', 'player_name': 'Jogador'}\n",
    "    )\n",
    "    fig.update_layout(title_font_size=24, height=600)\n",
    "    fig.show()"
   ]
  },
  {
   "cell_type": "code",
   "execution_count": 2,
   "id": "7950d89a",
   "metadata": {},
   "outputs": [
    {
     "ename": "NameError",
     "evalue": "name 'Markdown' is not defined",
     "output_type": "error",
     "traceback": [
      "\u001b[31m---------------------------------------------------------------------------\u001b[39m",
      "\u001b[31mNameError\u001b[39m                                 Traceback (most recent call last)",
      "\u001b[36mCell\u001b[39m\u001b[36m \u001b[39m\u001b[32mIn[2]\u001b[39m\u001b[32m, line 1\u001b[39m\n\u001b[32m----> \u001b[39m\u001b[32m1\u001b[39m display(\u001b[43mMarkdown\u001b[49m(\u001b[33m\"\u001b[39m\u001b[33m## 📊 Análise de Estatísticas Ofensivas\u001b[39m\u001b[33m\"\u001b[39m))\n\u001b[32m      3\u001b[39m \u001b[38;5;66;03m#SELECIONE SEUS FILTROS AQUI\u001b[39;00m\n\u001b[32m      4\u001b[39m season_filter = \u001b[32m2012\u001b[39m \u001b[38;5;66;03m# Opções: \"2012-2024\" ou um ano específico (ex: 2023)\u001b[39;00m\n",
      "\u001b[31mNameError\u001b[39m: name 'Markdown' is not defined"
     ]
    }
   ],
   "source": [
    "display(Markdown(\"## 📊 Análise de Estatísticas Ofensivas\"))\n",
    "\n",
    "#SELECIONE SEUS FILTROS AQUI\n",
    "season_filter = 2012 # Opções: \"2012-2024\" ou um ano específico (ex: 2023)\n",
    "position_filter = \"TE\"      # Opções: \"QB\", \"RB\", \"WR\", \"TE\"\n",
    "stat_filter = \"Jardas Corridas\" \n",
    "#QB:\n",
    "# Jardas Passadas: season_passing_yards, TDs Passados: season_pass_touchdown,\n",
    "# Passer Rating: passer_rating, Interceptações Sofridas: season_interception\n",
    "#RB:\n",
    "# Jardas Corridas: season_rushing_yards, TDs Corridos: season_rush_touchdown,\n",
    "# Tentativas de Corrida: season_rush_attempts, Fumbles: season_fumble\n",
    "#WR e TE:\n",
    "# Jardas Recebidas: season_receiving_yards, TDs Recebidos: season_receiving_touchdown,\n",
    "# Total de Recepções: season_receptions, Fumbles: season_fumble\n",
    "# ------------------------------------\n",
    "\n",
    "\n",
    "# Validação e plotagem\n",
    "if position_filter in offensive_stats and stat_filter in offensive_stats[position_filter]:\n",
    "    metric_col = offensive_stats[position_filter][stat_filter]\n",
    "    plot_top_players_notebook(\n",
    "        df_offense_agg, \n",
    "        metric_col, \n",
    "        stat_filter, \n",
    "        season_filter, \n",
    "        position=position_filter\n",
    "    )\n",
    "else:\n",
    "    print(\"❌ Filtro inválido! Verifique as opções de posição e estatística.\")"
   ]
  },
  {
   "cell_type": "code",
   "execution_count": 63,
   "id": "c30b2132",
   "metadata": {},
   "outputs": [
    {
     "data": {
      "text/markdown": [
       "## 📊 Análise de Estatísticas Defensivas"
      ],
      "text/plain": [
       "<IPython.core.display.Markdown object>"
      ]
     },
     "metadata": {},
     "output_type": "display_data"
    },
    {
     "name": "stdout",
     "output_type": "stream",
     "text": [
      "❌ Filtro inválido! Verifique as opções de estatística.\n"
     ]
    }
   ],
   "source": [
    "display(Markdown(\"## 📊 Análise de Estatísticas Defensivas\"))\n",
    "\n",
    "#SELECIONE SEUS FILTROS AQUI\n",
    "season_filter_def = 2024 # Opções: \"2012-2024\" ou um ano específico (ex: 2023)\n",
    "stat_filter_def = \"sacks\"  \n",
    "# Interceptações: \"interception, Tackles Solo: solo_tackle , Tackles com Assistência : tackle_with_assist\n",
    "# Sacks: sack, QB Hits: qb_hit ,Fumbles Forçados : fumble_forced ,Touchdowns Defensivos: def_touchdown.\n",
    "\n",
    "# Validação e plotagem\n",
    "if stat_filter_def in defensive_stats:\n",
    "    metric_col_def = defensive_stats[stat_filter_def]\n",
    "    plot_top_players_notebook(\n",
    "        df_defense_agg, \n",
    "        metric_col_def, \n",
    "        stat_filter_def, \n",
    "        season_filter_def\n",
    "    )\n",
    "else:\n",
    "    print(\"❌ Filtro inválido! Verifique as opções de estatística.\")"
   ]
  },
  {
   "cell_type": "code",
   "execution_count": 26,
   "id": "3f4f879c",
   "metadata": {},
   "outputs": [
    {
     "data": {
      "text/markdown": [
       "## 🚀 Evolução Acumulada de Carreira"
      ],
      "text/plain": [
       "<IPython.core.display.Markdown object>"
      ]
     },
     "metadata": {},
     "output_type": "display_data"
    },
    {
     "data": {
      "application/vnd.plotly.v1+json": {
       "config": {
        "plotlyServerURL": "https://plot.ly"
       },
       "data": [
        {
         "hovertemplate": "Jogador=Aaron Rodgers<br>Temporada=%{x}<br>Jardas Passadas (Acumulado)=%{y}<extra></extra>",
         "legendgroup": "Aaron Rodgers",
         "line": {
          "color": "#636efa",
          "dash": "solid"
         },
         "marker": {
          "symbol": "circle"
         },
         "mode": "lines",
         "name": "Aaron Rodgers",
         "orientation": "v",
         "showlegend": true,
         "type": "scatter",
         "x": {
          "bdata": "3AfdB94H3wfgB+EH4gfjB+QH5QfmB+cH6Ac=",
          "dtype": "i2"
         },
         "xaxis": "x",
         "y": {
          "bdata": "AAAAAADIsUAAAAAAALC7QAAAAACAXcdAAAAAAIBWz0AAAAAAwJ7UQAAAAAAA+dVAAAAAAIBP2kAAAAAAQMbeQAAAAADAzOFAAAAAAKCW40AAAAAAgGTlQAAAAACAZOVAAAAAAKBL50A=",
          "dtype": "f8"
         },
         "yaxis": "y"
        },
        {
         "hovertemplate": "Jogador=Ben Roethlisberger<br>Temporada=%{x}<br>Jardas Passadas (Acumulado)=%{y}<extra></extra>",
         "legendgroup": "Ben Roethlisberger",
         "line": {
          "color": "#EF553B",
          "dash": "solid"
         },
         "marker": {
          "symbol": "circle"
         },
         "mode": "lines",
         "name": "Ben Roethlisberger",
         "orientation": "v",
         "showlegend": true,
         "type": "scatter",
         "x": {
          "bdata": "3AfdB94H3wfgB+EH4gfjB+QH5Qc=",
          "dtype": "i2"
         },
         "xaxis": "x",
         "y": {
          "bdata": "AAAAAABIp0AAAAAAAEm8QAAAAACAd8hAAAAAAABp0EAAAAAAQKrUQAAAAABASNlAAAAAAIBK3kAAAAAAQKLeQAAAAACALOFAAAAAAODd4kA=",
          "dtype": "f8"
         },
         "yaxis": "y"
        },
        {
         "hovertemplate": "Jogador=Derek Carr<br>Temporada=%{x}<br>Jardas Passadas (Acumulado)=%{y}<extra></extra>",
         "legendgroup": "Derek Carr",
         "line": {
          "color": "#00cc96",
          "dash": "solid"
         },
         "marker": {
          "symbol": "circle"
         },
         "mode": "lines",
         "name": "Derek Carr",
         "orientation": "v",
         "showlegend": true,
         "type": "scatter",
         "x": {
          "bdata": "3gffB+AH4QfiB+MH5AflB+YH5wfoBw==",
          "dtype": "i2"
         },
         "xaxis": "x",
         "y": {
          "bdata": "AAAAAACMqUAAAAAAAFm8QAAAAAAA3cVAAAAAAACxzEAAAAAAwEzSQAAAAABAQtZAAAAAAABE2kAAAAAAAPXeQAAAAADAMuFAAAAAAIAX40AAAAAAoCPkQA==",
          "dtype": "f8"
         },
         "yaxis": "y"
        },
        {
         "hovertemplate": "Jogador=Drew Brees<br>Temporada=%{x}<br>Jardas Passadas (Acumulado)=%{y}<extra></extra>",
         "legendgroup": "Drew Brees",
         "line": {
          "color": "#ab63fa",
          "dash": "solid"
         },
         "marker": {
          "symbol": "circle"
         },
         "mode": "lines",
         "name": "Drew Brees",
         "orientation": "v",
         "showlegend": true,
         "type": "scatter",
         "x": {
          "bdata": "3AfdB94H3wfgB+EH4gfjB+QH",
          "dtype": "i2"
         },
         "xaxis": "x",
         "y": {
          "bdata": "AAAAAAA5tEAAAAAAAMzEQAAAAAAAeM5AAAAAAID900AAAAAAgBPZQAAAAACAmN1AAAAAAAAE4UAAAAAAYHjiQAAAAACg2+NA",
          "dtype": "f8"
         },
         "yaxis": "y"
        },
        {
         "hovertemplate": "Jogador=Kirk Cousins<br>Temporada=%{x}<br>Jardas Passadas (Acumulado)=%{y}<extra></extra>",
         "legendgroup": "Kirk Cousins",
         "line": {
          "color": "#FFA15A",
          "dash": "solid"
         },
         "marker": {
          "symbol": "circle"
         },
         "mode": "lines",
         "name": "Kirk Cousins",
         "orientation": "v",
         "showlegend": true,
         "type": "scatter",
         "x": {
          "bdata": "3AfdB94H3wfgB+EH4gfjB+QH5QfmB+cH6Ac=",
          "dtype": "i2"
         },
         "xaxis": "x",
         "y": {
          "bdata": "AAAAAAAgfUAAAAAAAKCUQAAAAAAArKdAAAAAAAAcvEAAAAAAgKjHQAAAAAAAp89AAAAAAAAG1EAAAAAAwLXXQAAAAAAA4NtAAAAAAMDA30AAAAAAwBjiQAAAAAAgPONAAAAAAKDy5EA=",
          "dtype": "f8"
         },
         "yaxis": "y"
        },
        {
         "hovertemplate": "Jogador=Matt Ryan<br>Temporada=%{x}<br>Jardas Passadas (Acumulado)=%{y}<extra></extra>",
         "legendgroup": "Matt Ryan",
         "line": {
          "color": "#19d3f3",
          "dash": "solid"
         },
         "marker": {
          "symbol": "circle"
         },
         "mode": "lines",
         "name": "Matt Ryan",
         "orientation": "v",
         "showlegend": true,
         "type": "scatter",
         "x": {
          "bdata": "3AfdB94H3wfgB+EH4gfjB+QH5QfmBw==",
          "dtype": "i2"
         },
         "xaxis": "x",
         "y": {
          "bdata": "AAAAAAD1tEAAAAAAAEzDQAAAAAAAd8xAAAAAAEC30kAAAAAAwIjYQAAAAAAAvdxAAAAAAADG4EAAAAAAQPTiQAAAAADgMOVAAAAAAOAg50AAAAAAAJ/oQA==",
          "dtype": "f8"
         },
         "yaxis": "y"
        },
        {
         "hovertemplate": "Jogador=Matthew Stafford<br>Temporada=%{x}<br>Jardas Passadas (Acumulado)=%{y}<extra></extra>",
         "legendgroup": "Matthew Stafford",
         "line": {
          "color": "#FF6692",
          "dash": "solid"
         },
         "marker": {
          "symbol": "circle"
         },
         "mode": "lines",
         "name": "Matthew Stafford",
         "orientation": "v",
         "showlegend": true,
         "type": "scatter",
         "x": {
          "bdata": "3AfdB94H3wfgB+EH4gfjB+QH5QfmB+cH6Ac=",
          "dtype": "i2"
         },
         "xaxis": "x",
         "y": {
          "bdata": "AAAAAABns0AAAAAAgMjCQAAAAACAustAAAAAAMAG0kAAAAAAgEDWQAAAAAAAmNpAAAAAAEBI3kAAAAAAgFzgQAAAAAAAW+JAAAAAAAA55UAAAAAAACrmQAAAAACgGehAAAAAAIAy6kA=",
          "dtype": "f8"
         },
         "yaxis": "y"
        },
        {
         "hovertemplate": "Jogador=Philip Rivers<br>Temporada=%{x}<br>Jardas Passadas (Acumulado)=%{y}<extra></extra>",
         "legendgroup": "Philip Rivers",
         "line": {
          "color": "#B6E880",
          "dash": "solid"
         },
         "marker": {
          "symbol": "circle"
         },
         "mode": "lines",
         "name": "Philip Rivers",
         "orientation": "v",
         "showlegend": true,
         "type": "scatter",
         "x": {
          "bdata": "3AfdB94H3wfgB+EH4gfjB+QH",
          "dtype": "i2"
         },
         "xaxis": "x",
         "y": {
          "bdata": "AAAAAAAsrEAAAAAAgDbAQAAAAACAlchAAAAAAMD40EAAAAAAQEHVQAAAAAAAqtlAAAAAAMAx3kAAAAAAwFnhQAAAAADgYuNA",
          "dtype": "f8"
         },
         "yaxis": "y"
        },
        {
         "hovertemplate": "Jogador=Russell Wilson<br>Temporada=%{x}<br>Jardas Passadas (Acumulado)=%{y}<extra></extra>",
         "legendgroup": "Russell Wilson",
         "line": {
          "color": "#FF97FF",
          "dash": "solid"
         },
         "marker": {
          "symbol": "circle"
         },
         "mode": "lines",
         "name": "Russell Wilson",
         "orientation": "v",
         "showlegend": true,
         "type": "scatter",
         "x": {
          "bdata": "3AfdB94H3wfgB+EH4gfjB+QH5QfmB+cH6Ac=",
          "dtype": "i2"
         },
         "xaxis": "x",
         "y": {
          "bdata": "AAAAAABeq0AAAAAAANi8QAAAAACAn8ZAAAAAAIAyz0AAAAAAQPDTQAAAAAAA1NdAAAAAAAAy20AAAAAAwHrfQAAAAADgy+FAAAAAAABR40AAAAAAgAnlQAAAAABAieZAAAAAAIC/50A=",
          "dtype": "f8"
         },
         "yaxis": "y"
        },
        {
         "hovertemplate": "Jogador=Tom Brady<br>Temporada=%{x}<br>Jardas Passadas (Acumulado)=%{y}<extra></extra>",
         "legendgroup": "Tom Brady",
         "line": {
          "color": "#FECB52",
          "dash": "solid"
         },
         "marker": {
          "symbol": "circle"
         },
         "mode": "lines",
         "name": "Tom Brady",
         "orientation": "v",
         "showlegend": true,
         "type": "scatter",
         "x": {
          "bdata": "3AfdB94H3wfgB+EH4gfjB+QH5QfmBw==",
          "dtype": "i2"
         },
         "xaxis": "x",
         "y": {
          "bdata": "AAAAAABztUAAAAAAgCLEQAAAAACA9c1AAAAAAEA81EAAAAAAgGvYQAAAAADA/t1AAAAAAOCW4UAAAAAAAJLjQAAAAAAgKuZAAAAAAMDr6EAAAAAAgDbrQA==",
          "dtype": "f8"
         },
         "yaxis": "y"
        }
       ],
       "layout": {
        "height": 600,
        "legend": {
         "title": {
          "text": "Jogador"
         },
         "tracegroupgap": 0
        },
        "template": {
         "data": {
          "bar": [
           {
            "error_x": {
             "color": "#2a3f5f"
            },
            "error_y": {
             "color": "#2a3f5f"
            },
            "marker": {
             "line": {
              "color": "#E5ECF6",
              "width": 0.5
             },
             "pattern": {
              "fillmode": "overlay",
              "size": 10,
              "solidity": 0.2
             }
            },
            "type": "bar"
           }
          ],
          "barpolar": [
           {
            "marker": {
             "line": {
              "color": "#E5ECF6",
              "width": 0.5
             },
             "pattern": {
              "fillmode": "overlay",
              "size": 10,
              "solidity": 0.2
             }
            },
            "type": "barpolar"
           }
          ],
          "carpet": [
           {
            "aaxis": {
             "endlinecolor": "#2a3f5f",
             "gridcolor": "white",
             "linecolor": "white",
             "minorgridcolor": "white",
             "startlinecolor": "#2a3f5f"
            },
            "baxis": {
             "endlinecolor": "#2a3f5f",
             "gridcolor": "white",
             "linecolor": "white",
             "minorgridcolor": "white",
             "startlinecolor": "#2a3f5f"
            },
            "type": "carpet"
           }
          ],
          "choropleth": [
           {
            "colorbar": {
             "outlinewidth": 0,
             "ticks": ""
            },
            "type": "choropleth"
           }
          ],
          "contour": [
           {
            "colorbar": {
             "outlinewidth": 0,
             "ticks": ""
            },
            "colorscale": [
             [
              0,
              "#0d0887"
             ],
             [
              0.1111111111111111,
              "#46039f"
             ],
             [
              0.2222222222222222,
              "#7201a8"
             ],
             [
              0.3333333333333333,
              "#9c179e"
             ],
             [
              0.4444444444444444,
              "#bd3786"
             ],
             [
              0.5555555555555556,
              "#d8576b"
             ],
             [
              0.6666666666666666,
              "#ed7953"
             ],
             [
              0.7777777777777778,
              "#fb9f3a"
             ],
             [
              0.8888888888888888,
              "#fdca26"
             ],
             [
              1,
              "#f0f921"
             ]
            ],
            "type": "contour"
           }
          ],
          "contourcarpet": [
           {
            "colorbar": {
             "outlinewidth": 0,
             "ticks": ""
            },
            "type": "contourcarpet"
           }
          ],
          "heatmap": [
           {
            "colorbar": {
             "outlinewidth": 0,
             "ticks": ""
            },
            "colorscale": [
             [
              0,
              "#0d0887"
             ],
             [
              0.1111111111111111,
              "#46039f"
             ],
             [
              0.2222222222222222,
              "#7201a8"
             ],
             [
              0.3333333333333333,
              "#9c179e"
             ],
             [
              0.4444444444444444,
              "#bd3786"
             ],
             [
              0.5555555555555556,
              "#d8576b"
             ],
             [
              0.6666666666666666,
              "#ed7953"
             ],
             [
              0.7777777777777778,
              "#fb9f3a"
             ],
             [
              0.8888888888888888,
              "#fdca26"
             ],
             [
              1,
              "#f0f921"
             ]
            ],
            "type": "heatmap"
           }
          ],
          "histogram": [
           {
            "marker": {
             "pattern": {
              "fillmode": "overlay",
              "size": 10,
              "solidity": 0.2
             }
            },
            "type": "histogram"
           }
          ],
          "histogram2d": [
           {
            "colorbar": {
             "outlinewidth": 0,
             "ticks": ""
            },
            "colorscale": [
             [
              0,
              "#0d0887"
             ],
             [
              0.1111111111111111,
              "#46039f"
             ],
             [
              0.2222222222222222,
              "#7201a8"
             ],
             [
              0.3333333333333333,
              "#9c179e"
             ],
             [
              0.4444444444444444,
              "#bd3786"
             ],
             [
              0.5555555555555556,
              "#d8576b"
             ],
             [
              0.6666666666666666,
              "#ed7953"
             ],
             [
              0.7777777777777778,
              "#fb9f3a"
             ],
             [
              0.8888888888888888,
              "#fdca26"
             ],
             [
              1,
              "#f0f921"
             ]
            ],
            "type": "histogram2d"
           }
          ],
          "histogram2dcontour": [
           {
            "colorbar": {
             "outlinewidth": 0,
             "ticks": ""
            },
            "colorscale": [
             [
              0,
              "#0d0887"
             ],
             [
              0.1111111111111111,
              "#46039f"
             ],
             [
              0.2222222222222222,
              "#7201a8"
             ],
             [
              0.3333333333333333,
              "#9c179e"
             ],
             [
              0.4444444444444444,
              "#bd3786"
             ],
             [
              0.5555555555555556,
              "#d8576b"
             ],
             [
              0.6666666666666666,
              "#ed7953"
             ],
             [
              0.7777777777777778,
              "#fb9f3a"
             ],
             [
              0.8888888888888888,
              "#fdca26"
             ],
             [
              1,
              "#f0f921"
             ]
            ],
            "type": "histogram2dcontour"
           }
          ],
          "mesh3d": [
           {
            "colorbar": {
             "outlinewidth": 0,
             "ticks": ""
            },
            "type": "mesh3d"
           }
          ],
          "parcoords": [
           {
            "line": {
             "colorbar": {
              "outlinewidth": 0,
              "ticks": ""
             }
            },
            "type": "parcoords"
           }
          ],
          "pie": [
           {
            "automargin": true,
            "type": "pie"
           }
          ],
          "scatter": [
           {
            "fillpattern": {
             "fillmode": "overlay",
             "size": 10,
             "solidity": 0.2
            },
            "type": "scatter"
           }
          ],
          "scatter3d": [
           {
            "line": {
             "colorbar": {
              "outlinewidth": 0,
              "ticks": ""
             }
            },
            "marker": {
             "colorbar": {
              "outlinewidth": 0,
              "ticks": ""
             }
            },
            "type": "scatter3d"
           }
          ],
          "scattercarpet": [
           {
            "marker": {
             "colorbar": {
              "outlinewidth": 0,
              "ticks": ""
             }
            },
            "type": "scattercarpet"
           }
          ],
          "scattergeo": [
           {
            "marker": {
             "colorbar": {
              "outlinewidth": 0,
              "ticks": ""
             }
            },
            "type": "scattergeo"
           }
          ],
          "scattergl": [
           {
            "marker": {
             "colorbar": {
              "outlinewidth": 0,
              "ticks": ""
             }
            },
            "type": "scattergl"
           }
          ],
          "scattermap": [
           {
            "marker": {
             "colorbar": {
              "outlinewidth": 0,
              "ticks": ""
             }
            },
            "type": "scattermap"
           }
          ],
          "scattermapbox": [
           {
            "marker": {
             "colorbar": {
              "outlinewidth": 0,
              "ticks": ""
             }
            },
            "type": "scattermapbox"
           }
          ],
          "scatterpolar": [
           {
            "marker": {
             "colorbar": {
              "outlinewidth": 0,
              "ticks": ""
             }
            },
            "type": "scatterpolar"
           }
          ],
          "scatterpolargl": [
           {
            "marker": {
             "colorbar": {
              "outlinewidth": 0,
              "ticks": ""
             }
            },
            "type": "scatterpolargl"
           }
          ],
          "scatterternary": [
           {
            "marker": {
             "colorbar": {
              "outlinewidth": 0,
              "ticks": ""
             }
            },
            "type": "scatterternary"
           }
          ],
          "surface": [
           {
            "colorbar": {
             "outlinewidth": 0,
             "ticks": ""
            },
            "colorscale": [
             [
              0,
              "#0d0887"
             ],
             [
              0.1111111111111111,
              "#46039f"
             ],
             [
              0.2222222222222222,
              "#7201a8"
             ],
             [
              0.3333333333333333,
              "#9c179e"
             ],
             [
              0.4444444444444444,
              "#bd3786"
             ],
             [
              0.5555555555555556,
              "#d8576b"
             ],
             [
              0.6666666666666666,
              "#ed7953"
             ],
             [
              0.7777777777777778,
              "#fb9f3a"
             ],
             [
              0.8888888888888888,
              "#fdca26"
             ],
             [
              1,
              "#f0f921"
             ]
            ],
            "type": "surface"
           }
          ],
          "table": [
           {
            "cells": {
             "fill": {
              "color": "#EBF0F8"
             },
             "line": {
              "color": "white"
             }
            },
            "header": {
             "fill": {
              "color": "#C8D4E3"
             },
             "line": {
              "color": "white"
             }
            },
            "type": "table"
           }
          ]
         },
         "layout": {
          "annotationdefaults": {
           "arrowcolor": "#2a3f5f",
           "arrowhead": 0,
           "arrowwidth": 1
          },
          "autotypenumbers": "strict",
          "coloraxis": {
           "colorbar": {
            "outlinewidth": 0,
            "ticks": ""
           }
          },
          "colorscale": {
           "diverging": [
            [
             0,
             "#8e0152"
            ],
            [
             0.1,
             "#c51b7d"
            ],
            [
             0.2,
             "#de77ae"
            ],
            [
             0.3,
             "#f1b6da"
            ],
            [
             0.4,
             "#fde0ef"
            ],
            [
             0.5,
             "#f7f7f7"
            ],
            [
             0.6,
             "#e6f5d0"
            ],
            [
             0.7,
             "#b8e186"
            ],
            [
             0.8,
             "#7fbc41"
            ],
            [
             0.9,
             "#4d9221"
            ],
            [
             1,
             "#276419"
            ]
           ],
           "sequential": [
            [
             0,
             "#0d0887"
            ],
            [
             0.1111111111111111,
             "#46039f"
            ],
            [
             0.2222222222222222,
             "#7201a8"
            ],
            [
             0.3333333333333333,
             "#9c179e"
            ],
            [
             0.4444444444444444,
             "#bd3786"
            ],
            [
             0.5555555555555556,
             "#d8576b"
            ],
            [
             0.6666666666666666,
             "#ed7953"
            ],
            [
             0.7777777777777778,
             "#fb9f3a"
            ],
            [
             0.8888888888888888,
             "#fdca26"
            ],
            [
             1,
             "#f0f921"
            ]
           ],
           "sequentialminus": [
            [
             0,
             "#0d0887"
            ],
            [
             0.1111111111111111,
             "#46039f"
            ],
            [
             0.2222222222222222,
             "#7201a8"
            ],
            [
             0.3333333333333333,
             "#9c179e"
            ],
            [
             0.4444444444444444,
             "#bd3786"
            ],
            [
             0.5555555555555556,
             "#d8576b"
            ],
            [
             0.6666666666666666,
             "#ed7953"
            ],
            [
             0.7777777777777778,
             "#fb9f3a"
            ],
            [
             0.8888888888888888,
             "#fdca26"
            ],
            [
             1,
             "#f0f921"
            ]
           ]
          },
          "colorway": [
           "#636efa",
           "#EF553B",
           "#00cc96",
           "#ab63fa",
           "#FFA15A",
           "#19d3f3",
           "#FF6692",
           "#B6E880",
           "#FF97FF",
           "#FECB52"
          ],
          "font": {
           "color": "#2a3f5f"
          },
          "geo": {
           "bgcolor": "white",
           "lakecolor": "white",
           "landcolor": "#E5ECF6",
           "showlakes": true,
           "showland": true,
           "subunitcolor": "white"
          },
          "hoverlabel": {
           "align": "left"
          },
          "hovermode": "closest",
          "mapbox": {
           "style": "light"
          },
          "paper_bgcolor": "white",
          "plot_bgcolor": "#E5ECF6",
          "polar": {
           "angularaxis": {
            "gridcolor": "white",
            "linecolor": "white",
            "ticks": ""
           },
           "bgcolor": "#E5ECF6",
           "radialaxis": {
            "gridcolor": "white",
            "linecolor": "white",
            "ticks": ""
           }
          },
          "scene": {
           "xaxis": {
            "backgroundcolor": "#E5ECF6",
            "gridcolor": "white",
            "gridwidth": 2,
            "linecolor": "white",
            "showbackground": true,
            "ticks": "",
            "zerolinecolor": "white"
           },
           "yaxis": {
            "backgroundcolor": "#E5ECF6",
            "gridcolor": "white",
            "gridwidth": 2,
            "linecolor": "white",
            "showbackground": true,
            "ticks": "",
            "zerolinecolor": "white"
           },
           "zaxis": {
            "backgroundcolor": "#E5ECF6",
            "gridcolor": "white",
            "gridwidth": 2,
            "linecolor": "white",
            "showbackground": true,
            "ticks": "",
            "zerolinecolor": "white"
           }
          },
          "shapedefaults": {
           "line": {
            "color": "#2a3f5f"
           }
          },
          "ternary": {
           "aaxis": {
            "gridcolor": "white",
            "linecolor": "white",
            "ticks": ""
           },
           "baxis": {
            "gridcolor": "white",
            "linecolor": "white",
            "ticks": ""
           },
           "bgcolor": "#E5ECF6",
           "caxis": {
            "gridcolor": "white",
            "linecolor": "white",
            "ticks": ""
           }
          },
          "title": {
           "x": 0.05
          },
          "xaxis": {
           "automargin": true,
           "gridcolor": "white",
           "linecolor": "white",
           "ticks": "",
           "title": {
            "standoff": 15
           },
           "zerolinecolor": "white",
           "zerolinewidth": 2
          },
          "yaxis": {
           "automargin": true,
           "gridcolor": "white",
           "linecolor": "white",
           "ticks": "",
           "title": {
            "standoff": 15
           },
           "zerolinecolor": "white",
           "zerolinewidth": 2
          }
         }
        },
        "title": {
         "font": {
          "size": 24
         },
         "text": "Evolução Acumulada de Carreira - Top 10 QBs por Jardas Passadas"
        },
        "xaxis": {
         "anchor": "y",
         "domain": [
          0,
          1
         ],
         "title": {
          "text": "Temporada"
         }
        },
        "yaxis": {
         "anchor": "x",
         "domain": [
          0,
          1
         ],
         "title": {
          "text": "Jardas Passadas (Acumulado)"
         }
        }
       }
      }
     },
     "metadata": {},
     "output_type": "display_data"
    }
   ],
   "source": [
    "display(Markdown(\"## 🚀 Evolução Acumulada de Carreira\"))\n",
    "\n",
    "#SELECIONE SEUS FILTROS AQUI\n",
    "position_evo_filter = \"QB\" # Opções: \"QB\", \"RB\", \"WR\", \"TE\"\n",
    "stat_evo_filter = \"Jardas Passadas\" # Opções: Veja o dicionário 'offensive_stats'\n",
    "\n",
    "# Validação e plotagem\n",
    "if position_evo_filter in offensive_stats and stat_evo_filter in offensive_stats[position_evo_filter]:\n",
    "    metric_col_evo = offensive_stats[position_evo_filter][stat_evo_filter]\n",
    "    plot_cumulative_evolution_notebook(\n",
    "        df_offense_agg, \n",
    "        metric_col_evo, \n",
    "        stat_evo_filter, \n",
    "        position=position_evo_filter\n",
    "    )\n",
    "else:\n",
    "    print(\"❌ Filtro inválido! Verifique as opções de posição e estatística.\")"
   ]
  },
  {
   "cell_type": "code",
   "execution_count": 7,
   "id": "42b9495b",
   "metadata": {},
   "outputs": [
    {
     "name": "stdout",
     "output_type": "stream",
     "text": [
      "Arquivos salvos com sucesso:\n",
      "- yearly_player_stats_offense_aggregated.csv\n",
      "- yearly_player_stats_defense_aggregated.csv\n"
     ]
    }
   ],
   "source": [
    "# Definindo o nome dos arquivos de saída\n",
    "output_offense_file = \"yearly_player_stats_offense_aggregated.csv\"\n",
    "output_defense_file = \"yearly_player_stats_defense_aggregated.csv\"\n",
    "\n",
    "# Salvando os arquivos\n",
    "df_offense_agg.to_csv(output_offense_file, index=False)\n",
    "df_defense_agg.to_csv(output_defense_file, index=False)\n",
    "\n",
    "print(f\"Arquivos salvos com sucesso:\\n- {output_offense_file}\\n- {output_defense_file}\")"
   ]
  }
 ],
 "metadata": {
  "kernelspec": {
   "display_name": "Python 3",
   "language": "python",
   "name": "python3"
  },
  "language_info": {
   "codemirror_mode": {
    "name": "ipython",
    "version": 3
   },
   "file_extension": ".py",
   "mimetype": "text/x-python",
   "name": "python",
   "nbconvert_exporter": "python",
   "pygments_lexer": "ipython3",
   "version": "3.13.7"
  }
 },
 "nbformat": 4,
 "nbformat_minor": 5
}
